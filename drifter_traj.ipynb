{
 "cells": [
  {
   "cell_type": "code",
   "execution_count": 1,
   "metadata": {},
   "outputs": [
    {
     "name": "stdout",
     "output_type": "stream",
     "text": [
      "lscamd50-d.gfdl.noaa.gov\n",
      "Wed Feb 12 12:08:55 EST 2025\n"
     ]
    }
   ],
   "source": [
    "!hostname;date"
   ]
  },
  {
   "cell_type": "markdown",
   "metadata": {},
   "source": [
    "Visualize drifter trajectories"
   ]
  },
  {
   "cell_type": "code",
   "execution_count": 1,
   "metadata": {},
   "outputs": [],
   "source": [
    "import xarray as xr\n",
    "import matplotlib.pyplot as plt\n",
    "import numpy as np"
   ]
  },
  {
   "cell_type": "code",
   "execution_count": 45,
   "metadata": {},
   "outputs": [],
   "source": [
    "filepath='/home/Niki.Zadeh/platforms/mom6/MOM6SIS2_experiments/MOM6SIS2.global_twodegree/'\n",
    "dsList=[]\n",
    "#dsList.append(xr.open_dataset(filepath+'drifter_trajectories.nc.0013'))\n",
    "#for i,ds in enumerate(dsList):\n",
    "#    plt.plot(ds.lon[ds.drifter_num.values == 1],ds.lat[ds.drifter_num.values == 1],marker='o')\n"
   ]
  },
  {
   "cell_type": "code",
   "execution_count": 44,
   "metadata": {},
   "outputs": [],
   "source": [
    "#ods=xr.open_dataset(filepath+'19490101.ocean_static.nc')\n",
    "#plt.pcolormesh(ods.geolon,ods.geolat,ods.wet)\n",
    "#for i,ds in enumerate(dsList):\n",
    "#    plt.plot(ds.lon[ds.drifter_num.values == 1],ds.lat[ds.drifter_num.values == 1],marker='o')\n"
   ]
  },
  {
   "cell_type": "code",
   "execution_count": null,
   "metadata": {},
   "outputs": [],
   "source": []
  }
 ],
 "metadata": {
  "kernelspec": {
   "display_name": "plattorch_ext",
   "language": "python",
   "name": "python3"
  },
  "language_info": {
   "codemirror_mode": {
    "name": "ipython",
    "version": 3
   },
   "file_extension": ".py",
   "mimetype": "text/x-python",
   "name": "python",
   "nbconvert_exporter": "python",
   "pygments_lexer": "ipython3",
   "version": "3.9.18"
  }
 },
 "nbformat": 4,
 "nbformat_minor": 2
}
